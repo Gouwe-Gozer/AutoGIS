{
 "cells": [
  {
   "cell_type": "code",
   "execution_count": 3,
   "metadata": {},
   "outputs": [],
   "source": [
    "# Import `shapely.geometry.Point` class\n",
    "from shapely.geometry import Point\n",
    "\n",
    "# Create `Point` objects:\n",
    "point1 = Point(2.2, 4.2)\n",
    "point2 = Point(7.2, -25.1)\n",
    "point3 = Point(9.26, -2.456)\n",
    "point4_3D = Point(9.26, -2.456, 0.57)"
   ]
  },
  {
   "cell_type": "code",
   "execution_count": 4,
   "metadata": {},
   "outputs": [
    {
     "data": {
      "image/svg+xml": [
       "<svg xmlns=\"http://www.w3.org/2000/svg\" xmlns:xlink=\"http://www.w3.org/1999/xlink\" width=\"100.0\" height=\"100.0\" viewBox=\"1.2000000000000002 3.2 2.0 2.0\" preserveAspectRatio=\"xMinYMin meet\"><g transform=\"matrix(1,0,0,-1,0,8.4)\"><circle cx=\"2.2\" cy=\"4.2\" r=\"0.06\" stroke=\"#555555\" stroke-width=\"0.02\" fill=\"#66cc99\" opacity=\"0.6\" /></g></svg>"
      ],
      "text/plain": [
       "<shapely.geometry.point.Point at 0x1095af9d0>"
      ]
     },
     "execution_count": 4,
     "metadata": {},
     "output_type": "execute_result"
    }
   ],
   "source": [
    "point1"
   ]
  },
  {
   "cell_type": "code",
   "execution_count": 5,
   "metadata": {},
   "outputs": [
    {
     "name": "stdout",
     "output_type": "stream",
     "text": [
      "POINT (2.2 4.2)\n",
      "POINT Z (9.26 -2.456 0.57)\n"
     ]
    }
   ],
   "source": [
    "print(point1)\n",
    "print(point4_3D)"
   ]
  },
  {
   "cell_type": "code",
   "execution_count": 6,
   "metadata": {},
   "outputs": [
    {
     "data": {
      "text/plain": [
       "shapely.geometry.point.Point"
      ]
     },
     "execution_count": 6,
     "metadata": {},
     "output_type": "execute_result"
    }
   ],
   "source": [
    "type(point1)"
   ]
  },
  {
   "cell_type": "code",
   "execution_count": 7,
   "metadata": {},
   "outputs": [
    {
     "name": "stdout",
     "output_type": "stream",
     "text": [
      "[(2.2, 4.2)], 2.2, 4.2\n"
     ]
    }
   ],
   "source": [
    "xy_tup = list(point1.coords)\n",
    "x = point1.x\n",
    "y = point1.y\n",
    "\n",
    "print(f'{xy_tup}, {x}, {y}')"
   ]
  },
  {
   "cell_type": "code",
   "execution_count": 8,
   "metadata": {},
   "outputs": [
    {
     "name": "stdout",
     "output_type": "stream",
     "text": [
      "9.26 -2.456 0.57\n"
     ]
    }
   ],
   "source": [
    "x = point4_3D.x\n",
    "y = point4_3D.y\n",
    "z = point4_3D.z\n",
    "\n",
    "print(x, y, z)"
   ]
  },
  {
   "cell_type": "code",
   "execution_count": 9,
   "metadata": {},
   "outputs": [
    {
     "name": "stdout",
     "output_type": "stream",
     "text": [
      "POINT (2.2 4.2)\n",
      "POINT (7.2 -25.1)\n",
      "Distance between the points is 29.72 units\n"
     ]
    }
   ],
   "source": [
    "# Check input data\n",
    "print(point1)\n",
    "print(point2)\n",
    "\n",
    "# Calculate the distance between point1 and point2\n",
    "dist = point1.distance(point2)\n",
    "\n",
    "# Print out a nicely formatted info message\n",
    "print(f\"Distance between the points is {dist:.2f} units\")"
   ]
  },
  {
   "cell_type": "markdown",
   "metadata": {},
   "source": [
    "Shapely geometries are, by design, agnostic (unaware) of the reference system used to represent them. Distances and surface area calculated using the built-in shapely methods will always: a) assume a flat, Cartesian, Euclidean space, and b) return the calculated value in the unit of the coordinates (e.g., meters, or degrees)."
   ]
  },
  {
   "cell_type": "code",
   "execution_count": 10,
   "metadata": {},
   "outputs": [
    {
     "data": {
      "text/plain": [
       "True"
      ]
     },
     "execution_count": 10,
     "metadata": {},
     "output_type": "execute_result"
    }
   ],
   "source": [
    "# import the LineString class\n",
    "from shapely.geometry import LineString\n",
    "\n",
    "# Create a LineString from our Point objects\n",
    "line = LineString([point1, point2, point3])\n",
    "\n",
    "# Create a LineString from a list of coordinates:\n",
    "# (with the same coordinate values as the points, so results should be identical)\n",
    "line2 = LineString([(2.2, 4.2), (7.2, -25.1), (9.26, -2.456)])\n",
    "\n",
    "# Check if the lines are, indeed, identical:\n",
    "line == line2"
   ]
  },
  {
   "cell_type": "code",
   "execution_count": 11,
   "metadata": {},
   "outputs": [
    {
     "data": {
      "image/svg+xml": [
       "<svg xmlns=\"http://www.w3.org/2000/svg\" xmlns:xlink=\"http://www.w3.org/1999/xlink\" width=\"100.0\" height=\"100.0\" viewBox=\"1.028 -26.272000000000002 9.404 31.644000000000002\" preserveAspectRatio=\"xMinYMin meet\"><g transform=\"matrix(1,0,0,-1,0,-20.900000000000002)\"><polyline fill=\"none\" stroke=\"#66cc99\" stroke-width=\"0.63288\" points=\"2.2,4.2 7.2,-25.1 9.26,-2.456\" opacity=\"0.8\" /></g></svg>"
      ],
      "text/plain": [
       "<shapely.geometry.linestring.LineString at 0x10cab40a0>"
      ]
     },
     "execution_count": 11,
     "metadata": {},
     "output_type": "execute_result"
    }
   ],
   "source": [
    "# Look at the line\n",
    "line"
   ]
  },
  {
   "cell_type": "code",
   "execution_count": 12,
   "metadata": {},
   "outputs": [
    {
     "data": {
      "text/plain": [
       "[(2.2, 4.2), (7.2, -25.1), (9.26, -2.456)]"
      ]
     },
     "execution_count": 12,
     "metadata": {},
     "output_type": "execute_result"
    }
   ],
   "source": [
    "# Get coordinate tuples\n",
    "list(line.coords)"
   ]
  },
  {
   "cell_type": "code",
   "execution_count": 13,
   "metadata": {},
   "outputs": [
    {
     "name": "stdout",
     "output_type": "stream",
     "text": [
      "[2.2, 7.2, 9.26]\n",
      "[4.2, -25.1, -2.456]\n"
     ]
    }
   ],
   "source": [
    "# Obtain x and y coordinates\n",
    "xcoords = list(line.xy[0])\n",
    "ycoords = list(line.xy[1])\n",
    "\n",
    "print(xcoords)\n",
    "print(ycoords)"
   ]
  },
  {
   "cell_type": "markdown",
   "metadata": {},
   "source": [
    "Note that the xy property of shapely geometries does not return z values for three-dimensional geometries."
   ]
  },
  {
   "cell_type": "code",
   "execution_count": 14,
   "metadata": {},
   "outputs": [
    {
     "name": "stdout",
     "output_type": "stream",
     "text": [
      "Length of our line: 52.5 units\n",
      "POINT (6.229961354035622 -11.892411157572392)\n"
     ]
    }
   ],
   "source": [
    "# Get the length of the line\n",
    "line_length = line.length\n",
    "print(f\"Length of our line: {line_length:.1f} units\")\n",
    "\n",
    "# Get the centre point of the line\n",
    "print(line.centroid)"
   ]
  },
  {
   "cell_type": "code",
   "execution_count": 15,
   "metadata": {},
   "outputs": [
    {
     "data": {
      "text/plain": [
       "True"
      ]
     },
     "execution_count": 15,
     "metadata": {},
     "output_type": "execute_result"
    }
   ],
   "source": [
    "from shapely.geometry import Polygon\n",
    "\n",
    "# Create a Polygon from the coordinates (at least 3 required)\n",
    "polygon1 = Polygon([(2.2, 4.2), (7.2, -25.1), (9.26, -2.456)])\n",
    "polygon2 = Polygon([point1, point2, point3])\n",
    "\n",
    "from shapely.geometry import LinearRing\n",
    "\n",
    "# almost the same as polygon but the first and last point are the same\n",
    "# which makes a closed shape\n",
    "shell = LinearRing([point1, point2, point3, point1])\n",
    "polygon3 = Polygon(shell)\n",
    "\n",
    "polygon1 == polygon2 == polygon3"
   ]
  },
  {
   "cell_type": "code",
   "execution_count": 17,
   "metadata": {},
   "outputs": [
    {
     "data": {
      "image/svg+xml": [
       "<svg xmlns=\"http://www.w3.org/2000/svg\" xmlns:xlink=\"http://www.w3.org/1999/xlink\" width=\"100.0\" height=\"100.0\" viewBox=\"1.028 -26.272000000000002 9.404 31.644000000000002\" preserveAspectRatio=\"xMinYMin meet\"><g transform=\"matrix(1,0,0,-1,0,-20.900000000000002)\"><path fill-rule=\"evenodd\" fill=\"#66cc99\" stroke=\"#555555\" stroke-width=\"0.63288\" opacity=\"0.6\" d=\"M 2.2,4.2 L 7.2,-25.1 L 9.26,-2.456 L 2.2,4.2 z\" /></g></svg>"
      ],
      "text/plain": [
       "<shapely.geometry.polygon.Polygon at 0x10c2adcf0>"
      ]
     },
     "execution_count": 17,
     "metadata": {},
     "output_type": "execute_result"
    }
   ],
   "source": [
    "polygon1"
   ]
  },
  {
   "cell_type": "code",
   "execution_count": 18,
   "metadata": {},
   "outputs": [],
   "source": [
    "# Create a polygon with a hole\n",
    "# define the exterior\n",
    "outer = LinearRing([(-180, 90), (-180, -90), (180, -90), (180, 90)])\n",
    "\n",
    "# define a hole:\n",
    "hole = LinearRing([(-170, 80), (-100, -80), (100, -80), (170, 80)])"
   ]
  },
  {
   "cell_type": "code",
   "execution_count": 19,
   "metadata": {},
   "outputs": [
    {
     "data": {
      "image/svg+xml": [
       "<svg xmlns=\"http://www.w3.org/2000/svg\" xmlns:xlink=\"http://www.w3.org/1999/xlink\" width=\"300\" height=\"208.8\" viewBox=\"-194.4 -104.4 388.8 208.8\" preserveAspectRatio=\"xMinYMin meet\"><g transform=\"matrix(1,0,0,-1,0,0.0)\"><polyline fill=\"none\" stroke=\"#66cc99\" stroke-width=\"2.592\" points=\"-180.0,90.0 -180.0,-90.0 180.0,-90.0 180.0,90.0 -180.0,90.0\" opacity=\"0.8\" /></g></svg>"
      ],
      "text/plain": [
       "<shapely.geometry.polygon.LinearRing at 0x10ca544f0>"
      ]
     },
     "execution_count": 19,
     "metadata": {},
     "output_type": "execute_result"
    }
   ],
   "source": [
    "outer"
   ]
  },
  {
   "cell_type": "code",
   "execution_count": 20,
   "metadata": {},
   "outputs": [
    {
     "data": {
      "image/svg+xml": [
       "<svg xmlns=\"http://www.w3.org/2000/svg\" xmlns:xlink=\"http://www.w3.org/1999/xlink\" width=\"300\" height=\"187.2\" viewBox=\"-183.6 -93.6 367.2 187.2\" preserveAspectRatio=\"xMinYMin meet\"><g transform=\"matrix(1,0,0,-1,0,0.0)\"><polyline fill=\"none\" stroke=\"#66cc99\" stroke-width=\"2.448\" points=\"-170.0,80.0 -100.0,-80.0 100.0,-80.0 170.0,80.0 -170.0,80.0\" opacity=\"0.8\" /></g></svg>"
      ],
      "text/plain": [
       "<shapely.geometry.polygon.LinearRing at 0x10ca57e80>"
      ]
     },
     "execution_count": 20,
     "metadata": {},
     "output_type": "execute_result"
    }
   ],
   "source": [
    "hole"
   ]
  },
  {
   "cell_type": "code",
   "execution_count": 21,
   "metadata": {},
   "outputs": [
    {
     "data": {
      "image/svg+xml": [
       "<svg xmlns=\"http://www.w3.org/2000/svg\" xmlns:xlink=\"http://www.w3.org/1999/xlink\" width=\"300\" height=\"208.8\" viewBox=\"-194.4 -104.4 388.8 208.8\" preserveAspectRatio=\"xMinYMin meet\"><g transform=\"matrix(1,0,0,-1,0,0.0)\"><path fill-rule=\"evenodd\" fill=\"#66cc99\" stroke=\"#555555\" stroke-width=\"2.592\" opacity=\"0.6\" d=\"M -180.0,90.0 L -180.0,-90.0 L 180.0,-90.0 L 180.0,90.0 L -180.0,90.0 z\" /></g></svg>"
      ],
      "text/plain": [
       "<shapely.geometry.polygon.Polygon at 0x1095ad870>"
      ]
     },
     "execution_count": 21,
     "metadata": {},
     "output_type": "execute_result"
    }
   ],
   "source": [
    "polygon_without_hole = Polygon(outer)\n",
    "polygon_without_hole"
   ]
  },
  {
   "cell_type": "code",
   "execution_count": 22,
   "metadata": {},
   "outputs": [
    {
     "data": {
      "image/svg+xml": [
       "<svg xmlns=\"http://www.w3.org/2000/svg\" xmlns:xlink=\"http://www.w3.org/1999/xlink\" width=\"300\" height=\"208.8\" viewBox=\"-194.4 -104.4 388.8 208.8\" preserveAspectRatio=\"xMinYMin meet\"><g transform=\"matrix(1,0,0,-1,0,0.0)\"><path fill-rule=\"evenodd\" fill=\"#66cc99\" stroke=\"#555555\" stroke-width=\"2.592\" opacity=\"0.6\" d=\"M -180.0,90.0 L -180.0,-90.0 L 180.0,-90.0 L 180.0,90.0 L -180.0,90.0 z M -170.0,80.0 L -100.0,-80.0 L 100.0,-80.0 L 170.0,80.0 L -170.0,80.0 z\" /></g></svg>"
      ],
      "text/plain": [
       "<shapely.geometry.polygon.Polygon at 0x1095afbb0>"
      ]
     },
     "execution_count": 22,
     "metadata": {},
     "output_type": "execute_result"
    }
   ],
   "source": [
    "# The hole must be input wrapped in a list\n",
    "polygon_with_hole = Polygon(outer, [hole])\n",
    "polygon_with_hole"
   ]
  },
  {
   "cell_type": "code",
   "execution_count": 23,
   "metadata": {},
   "outputs": [
    {
     "name": "stdout",
     "output_type": "stream",
     "text": [
      "Polygon centroid: POINT (0 -13.827160493827162)\n",
      "Polygon area: 21600.0\n",
      "Polygon bounding box: (-180.0, -90.0, 180.0, 90.0)\n",
      "Polygon exterior ring: LINEARRING (-180 90, -180 -90, 180 -90, 180 90, -180 90)\n",
      "Polygon circumference: 1080.0\n"
     ]
    }
   ],
   "source": [
    "# Polygon properties\n",
    "print(f\"Polygon centroid: {polygon_with_hole.centroid}\")\n",
    "print(f\"Polygon area: {polygon_with_hole.area}\")\n",
    "print(f\"Polygon bounding box: {polygon_with_hole.bounds}\")\n",
    "print(f\"Polygon exterior ring: {polygon_with_hole.exterior}\")\n",
    "print(f\"Polygon circumference: {polygon_with_hole.exterior.length}\")"
   ]
  },
  {
   "cell_type": "code",
   "execution_count": 24,
   "metadata": {},
   "outputs": [
    {
     "data": {
      "image/svg+xml": [
       "<svg xmlns=\"http://www.w3.org/2000/svg\" xmlns:xlink=\"http://www.w3.org/1999/xlink\" width=\"100.0\" height=\"100.0\" viewBox=\"27.9372 -1.7828 4.125600000000002 3.9455999999999998\" preserveAspectRatio=\"xMinYMin meet\"><g transform=\"matrix(1,0,0,-1,0,0.3799999999999999)\"><path fill-rule=\"evenodd\" fill=\"#66cc99\" stroke=\"#555555\" stroke-width=\"0.08251200000000004\" opacity=\"0.6\" d=\"M 30.0,2.01 L 31.91,0.62 L 31.18,-1.63 L 28.82,-1.63 L 28.09,0.62 L 30.0,2.01 z\" /></g></svg>"
      ],
      "text/plain": [
       "<shapely.geometry.polygon.Polygon at 0x1095ac5b0>"
      ]
     },
     "execution_count": 24,
     "metadata": {},
     "output_type": "execute_result"
    }
   ],
   "source": [
    "# Pentagon \n",
    "Polygon([(30, 2.01), (31.91, 0.62), (31.18, -1.63), (28.82, -1.63), (28.09, 0.62)])"
   ]
  },
  {
   "cell_type": "code",
   "execution_count": 25,
   "metadata": {},
   "outputs": [
    {
     "data": {
      "image/svg+xml": [
       "<svg xmlns=\"http://www.w3.org/2000/svg\" xmlns:xlink=\"http://www.w3.org/1999/xlink\" width=\"100.0\" height=\"100.0\" viewBox=\"-0.16 -0.16 4.32 4.32\" preserveAspectRatio=\"xMinYMin meet\"><g transform=\"matrix(1,0,0,-1,0,4.0)\"><path fill-rule=\"evenodd\" fill=\"#66cc99\" stroke=\"#555555\" stroke-width=\"0.0864\" opacity=\"0.6\" d=\"M 0.0,0.0 L 2.0,4.0 L 4.0,0.0 L 0.0,0.0 z\" /></g></svg>"
      ],
      "text/plain": [
       "<shapely.geometry.polygon.Polygon at 0x1095af0a0>"
      ]
     },
     "execution_count": 25,
     "metadata": {},
     "output_type": "execute_result"
    }
   ],
   "source": [
    "# Triangle\n",
    "Polygon([(0,0), (2,4), (4,0)])"
   ]
  },
  {
   "cell_type": "code",
   "execution_count": 26,
   "metadata": {},
   "outputs": [
    {
     "data": {
      "image/svg+xml": [
       "<svg xmlns=\"http://www.w3.org/2000/svg\" xmlns:xlink=\"http://www.w3.org/1999/xlink\" width=\"100.0\" height=\"100.0\" viewBox=\"-1.08 -1.08 2.16 2.16\" preserveAspectRatio=\"xMinYMin meet\"><g transform=\"matrix(1,0,0,-1,0,0.0)\"><path fill-rule=\"evenodd\" fill=\"#66cc99\" stroke=\"#555555\" stroke-width=\"0.0432\" opacity=\"0.6\" d=\"M 1.0,0.0 L 0.9951847266721969,-0.0980171403295606 L 0.9807852804032304,-0.19509032201612825 L 0.9569403357322088,-0.29028467725446233 L 0.9238795325112867,-0.3826834323650898 L 0.881921264348355,-0.47139673682599764 L 0.8314696123025452,-0.5555702330196022 L 0.773010453362737,-0.6343932841636455 L 0.7071067811865476,-0.7071067811865475 L 0.6343932841636456,-0.7730104533627369 L 0.5555702330196023,-0.8314696123025452 L 0.4713967368259978,-0.8819212643483549 L 0.38268343236508984,-0.9238795325112867 L 0.29028467725446233,-0.9569403357322089 L 0.1950903220161283,-0.9807852804032304 L 0.09801714032956077,-0.9951847266721968 L 6.123233995736766e-17,-1.0 L -0.09801714032956066,-0.9951847266721969 L -0.1950903220161282,-0.9807852804032304 L -0.2902846772544622,-0.9569403357322089 L -0.3826834323650897,-0.9238795325112867 L -0.4713967368259977,-0.881921264348355 L -0.555570233019602,-0.8314696123025455 L -0.6343932841636453,-0.7730104533627371 L -0.7071067811865475,-0.7071067811865476 L -0.773010453362737,-0.6343932841636455 L -0.8314696123025453,-0.5555702330196021 L -0.8819212643483549,-0.4713967368259978 L -0.9238795325112867,-0.38268343236508984 L -0.9569403357322088,-0.29028467725446233 L -0.9807852804032304,-0.19509032201612858 L -0.9951847266721968,-0.09801714032956084 L -1.0,-1.2246467991473532e-16 L -0.9951847266721969,0.09801714032956059 L -0.9807852804032304,0.19509032201612836 L -0.9569403357322089,0.29028467725446216 L -0.9238795325112868,0.38268343236508967 L -0.881921264348355,0.47139673682599764 L -0.8314696123025455,0.555570233019602 L -0.7730104533627371,0.6343932841636453 L -0.7071067811865477,0.7071067811865474 L -0.6343932841636459,0.7730104533627367 L -0.5555702330196022,0.8314696123025452 L -0.47139673682599786,0.8819212643483549 L -0.38268343236509034,0.9238795325112865 L -0.2902846772544624,0.9569403357322088 L -0.19509032201612866,0.9807852804032303 L -0.09801714032956045,0.9951847266721969 L -1.8369701987210297e-16,1.0 L 0.09801714032956009,0.9951847266721969 L 0.19509032201612828,0.9807852804032304 L 0.2902846772544621,0.9569403357322089 L 0.38268343236509,0.9238795325112866 L 0.4713967368259976,0.881921264348355 L 0.5555702330196018,0.8314696123025455 L 0.6343932841636456,0.7730104533627369 L 0.7071067811865474,0.7071067811865477 L 0.7730104533627367,0.6343932841636459 L 0.8314696123025452,0.5555702330196022 L 0.8819212643483548,0.4713967368259979 L 0.9238795325112865,0.3826834323650904 L 0.9569403357322088,0.29028467725446244 L 0.9807852804032303,0.19509032201612872 L 0.9951847266721969,0.09801714032956052 L 1.0,0.0 z\" /></g></svg>"
      ],
      "text/plain": [
       "<shapely.geometry.polygon.Polygon at 0x10957a380>"
      ]
     },
     "execution_count": 26,
     "metadata": {},
     "output_type": "execute_result"
    }
   ],
   "source": [
    "# Circle (using a buffer around a point)\n",
    "point = Point((0,0))\n",
    "point.buffer(1)"
   ]
  },
  {
   "cell_type": "markdown",
   "metadata": {},
   "source": [
    "In shapely, collections of points are implemented as MultiPoint geometries, collections of lines as MultiLineString geometries, and collections of polygons as MultiPolygon geometries."
   ]
  },
  {
   "cell_type": "code",
   "execution_count": 27,
   "metadata": {},
   "outputs": [
    {
     "name": "stdout",
     "output_type": "stream",
     "text": [
      "MULTIPOINT (2.2 4.2, 7.2 -25.1, 9.26 -2.456)\n",
      "MULTILINESTRING ((2.2 4.2, 7.2 -25.1), (7.2 -25.1, 9.26 -2.456))\n"
     ]
    }
   ],
   "source": [
    "from shapely.geometry import MultiPoint, MultiLineString, MultiPolygon\n",
    "\n",
    "# Create a MultiPoint object of our points 1,2 and 3\n",
    "multipoint = MultiPoint([point1, point2, point3])\n",
    "\n",
    "# We can also create a MultiLineString with two lines\n",
    "line1 = LineString([point1, point2])\n",
    "line2 = LineString([point2, point3])\n",
    "multiline = MultiLineString([line1, line2])\n",
    "\n",
    "print(multipoint)\n",
    "print(multiline)"
   ]
  },
  {
   "cell_type": "code",
   "execution_count": 28,
   "metadata": {},
   "outputs": [
    {
     "data": {
      "image/svg+xml": [
       "<svg xmlns=\"http://www.w3.org/2000/svg\" xmlns:xlink=\"http://www.w3.org/1999/xlink\" width=\"100.0\" height=\"100.0\" viewBox=\"1.028 -26.272000000000002 9.404 31.644000000000002\" preserveAspectRatio=\"xMinYMin meet\"><g transform=\"matrix(1,0,0,-1,0,-20.900000000000002)\"><g><circle cx=\"2.2\" cy=\"4.2\" r=\"0.9493199999999999\" stroke=\"#555555\" stroke-width=\"0.31644\" fill=\"#66cc99\" opacity=\"0.6\" /><circle cx=\"7.2\" cy=\"-25.1\" r=\"0.9493199999999999\" stroke=\"#555555\" stroke-width=\"0.31644\" fill=\"#66cc99\" opacity=\"0.6\" /><circle cx=\"9.26\" cy=\"-2.456\" r=\"0.9493199999999999\" stroke=\"#555555\" stroke-width=\"0.31644\" fill=\"#66cc99\" opacity=\"0.6\" /></g></g></svg>"
      ],
      "text/plain": [
       "<shapely.geometry.multipoint.MultiPoint at 0x10c2b1ed0>"
      ]
     },
     "execution_count": 28,
     "metadata": {},
     "output_type": "execute_result"
    }
   ],
   "source": [
    "multipoint"
   ]
  },
  {
   "cell_type": "code",
   "execution_count": 29,
   "metadata": {},
   "outputs": [
    {
     "data": {
      "image/svg+xml": [
       "<svg xmlns=\"http://www.w3.org/2000/svg\" xmlns:xlink=\"http://www.w3.org/1999/xlink\" width=\"100.0\" height=\"100.0\" viewBox=\"1.028 -26.272000000000002 9.404 31.644000000000002\" preserveAspectRatio=\"xMinYMin meet\"><g transform=\"matrix(1,0,0,-1,0,-20.900000000000002)\"><g><polyline fill=\"none\" stroke=\"#66cc99\" stroke-width=\"0.63288\" points=\"2.2,4.2 7.2,-25.1\" opacity=\"0.8\" /><polyline fill=\"none\" stroke=\"#66cc99\" stroke-width=\"0.63288\" points=\"7.2,-25.1 9.26,-2.456\" opacity=\"0.8\" /></g></g></svg>"
      ],
      "text/plain": [
       "<shapely.geometry.multilinestring.MultiLineString at 0x10cae9600>"
      ]
     },
     "execution_count": 29,
     "metadata": {},
     "output_type": "execute_result"
    }
   ],
   "source": [
    "multiline"
   ]
  },
  {
   "cell_type": "code",
   "execution_count": null,
   "metadata": {},
   "outputs": [],
   "source": []
  }
 ],
 "metadata": {
  "kernelspec": {
   "display_name": "autogis",
   "language": "python",
   "name": "python3"
  },
  "language_info": {
   "codemirror_mode": {
    "name": "ipython",
    "version": 3
   },
   "file_extension": ".py",
   "mimetype": "text/x-python",
   "name": "python",
   "nbconvert_exporter": "python",
   "pygments_lexer": "ipython3",
   "version": "3.10.6"
  }
 },
 "nbformat": 4,
 "nbformat_minor": 2
}
